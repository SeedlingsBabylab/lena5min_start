{
 "cells": [
  {
   "cell_type": "code",
   "execution_count": 9,
   "metadata": {
    "collapsed": false
   },
   "outputs": [
    {
     "name": "stdout",
     "output_type": "stream",
     "text": [
      "Overwriting first_timestamp.py\n"
     ]
    }
   ],
   "source": [
    "%%writefile first_timestamp.py\n",
    "import sys\n",
    "\n",
    "import os\n",
    "from pathlib import Path\n",
    "import pandas as pd\n",
    "import re\n",
    "import csv\n",
    "\n",
    "def find_timestamp(f):\n",
    "    \"\"\"extract the first item of 'Timestamp'\"\"\"\n",
    "    with open(f) as csvDataFile:\n",
    "        csvReader = csv.reader(csvDataFile,quotechar='\"')\n",
    "        rownum = 0    \n",
    "        for row in csvReader:\n",
    "            if rownum == 0:\n",
    "                col_ind = row.index('Timestamp')\n",
    "            elif rownum == 1:\n",
    "                res = row[col_ind]  # only the first row\n",
    "            rownum+=1\n",
    "    return(res)\n",
    "\n",
    "\n",
    "def first_timestamp(rootdir,savedir):\n",
    "    \"\"\"Given a directory, extract all files' names, and their first \"Timestamp\" values, and save as a csv file\"\"\"\n",
    "    \n",
    "    # all files' addresses\n",
    "    rootdir1 = Path(rootdir)\n",
    "    file_list = [f for f in rootdir1.glob('**/*') if f.is_file()]\n",
    "    \n",
    "    # all files' names\n",
    "    name = re.compile(r'.*\\/(.+)?\\.csv')\n",
    "    df_all = []\n",
    "    \n",
    "    # Extract file name, and the first value in the \"Timestamp\" column\n",
    "    for path in file_list:\n",
    "        f = str(path)\n",
    "        x = name.findall(f)\n",
    "        x.append(find_timestamp(f))\n",
    "        df_all.append(x)\n",
    "        \n",
    "    df_all1 = pd.DataFrame(df_all)\n",
    "    df_all1.columns = ['file', 'Timestamp']\n",
    "    \n",
    "    # save as csv\n",
    "    df_all1.to_csv(savedir +\"/Timestamp.csv\", index=False)\n",
    "\n",
    "if __name__ == \"__main__\":\n",
    "    if len(sys.argv) == 3:\n",
    "        first_timestamp(sys.argv[1],sys.argv[2])\n",
    "    else:\n",
    "        print(\"usage: first_timestamp(rootdir,savedir)\")"
   ]
  },
  {
   "cell_type": "code",
   "execution_count": 10,
   "metadata": {
    "collapsed": false
   },
   "outputs": [
    {
     "name": "stdout",
     "output_type": "stream",
     "text": [
      "usage: first_timestamp(rootdir,savedir)\n"
     ]
    }
   ],
   "source": [
    "%run first_timestamp.py"
   ]
  },
  {
   "cell_type": "code",
   "execution_count": 11,
   "metadata": {
    "collapsed": false
   },
   "outputs": [],
   "source": [
    "# test\n",
    "rootdir = '/home/jovyan/work/BergelsonLab/lena5min'\n",
    "savedir = '/home/jovyan/work/BergelsonLab/Bergelsonlab_lena5min'\n",
    "first_timestamp(rootdir,savedir)"
   ]
  },
  {
   "cell_type": "code",
   "execution_count": null,
   "metadata": {
    "collapsed": true
   },
   "outputs": [],
   "source": []
  }
 ],
 "metadata": {
  "kernelspec": {
   "display_name": "Python 3",
   "language": "python",
   "name": "python3"
  },
  "language_info": {
   "codemirror_mode": {
    "name": "ipython",
    "version": 3
   },
   "file_extension": ".py",
   "mimetype": "text/x-python",
   "name": "python",
   "nbconvert_exporter": "python",
   "pygments_lexer": "ipython3",
   "version": "3.5.2"
  }
 },
 "nbformat": 4,
 "nbformat_minor": 2
}
